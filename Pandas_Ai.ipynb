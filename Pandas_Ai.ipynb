{
  "nbformat": 4,
  "nbformat_minor": 0,
  "metadata": {
    "colab": {
      "provenance": []
    },
    "kernelspec": {
      "name": "python3",
      "display_name": "Python 3"
    },
    "language_info": {
      "name": "python"
    }
  },
  "cells": [
    {
      "cell_type": "markdown",
      "source": [
        "#intro\n",
        "\n",
        "PandasAI is a tool that makes data analysis easy and enjoyable. It uses pandas dataframes and advanced language models to let users perform data analysis in a conversational manner.\n",
        "\n",
        "[PandasAI Github](https://github.com/gventuri/pandas-ai)\n",
        "\n",
        "[Demo](https://colab.research.google.com/drive/1ZnO-njhL7TBOYPZaqvMvGtsjckZKrv2E?usp=sharing)\n"
      ],
      "metadata": {
        "id": "KBsL4dpXUyYN"
      }
    },
    {
      "cell_type": "markdown",
      "source": [
        "## Setup\n",
        "To get started, we need to install the last version of PandasAI."
      ],
      "metadata": {
        "id": "Op4rWToOwMcJ"
      }
    },
    {
      "cell_type": "code",
      "source": [
        "!pip install pandasai pandas python-dotenv -q"
      ],
      "metadata": {
        "id": "X_pkjjqrwRGC"
      },
      "execution_count": null,
      "outputs": []
    },
    {
      "cell_type": "markdown",
      "source": [
        "##SmartDataframe\n",
        "A SmartDataframe is a kind of dataframe in pandas (or polars) that has all the same capabilities as a regular pd.DataFrame, but it also includes conversational features.\n",
        "\n",
        "\n",
        "\n",
        "\n"
      ],
      "metadata": {
        "id": "Cs4In3_Y3HNd"
      }
    },
    {
      "cell_type": "code",
      "source": [
        "from pandasai import SmartDataframe"
      ],
      "metadata": {
        "id": "4ElZEHsv3Y2y"
      },
      "execution_count": null,
      "outputs": []
    },
    {
      "cell_type": "markdown",
      "source": [
        "## Importing from a pandas dataframe\n",
        "\n",
        "To import from a pandas dataframe, you need to import the pandas libraries and create a dataframe first.\n",
        "\n",
        "\n"
      ],
      "metadata": {
        "id": "1SUVqkHe3fpe"
      }
    },
    {
      "cell_type": "code",
      "source": [
        "import pandas as pd"
      ],
      "metadata": {
        "id": "kbiM5Sfe3kuq"
      },
      "execution_count": null,
      "outputs": []
    },
    {
      "cell_type": "code",
      "source": [
        "df = pd.read_csv(\"/content/2019.csv\")\n",
        "df.head()"
      ],
      "metadata": {
        "colab": {
          "base_uri": "https://localhost:8080/",
          "height": 206
        },
        "id": "I7NT5UoY3oab",
        "outputId": "2b484e7f-7f49-435a-a4b4-fc40150b2caf"
      },
      "execution_count": null,
      "outputs": [
        {
          "output_type": "execute_result",
          "data": {
            "text/plain": [
              "   Overall rank Country or region  Score  GDP per capita  Social support  \\\n",
              "0             1           Finland  7.769           1.340           1.587   \n",
              "1             2           Denmark  7.600           1.383           1.573   \n",
              "2             3            Norway  7.554           1.488           1.582   \n",
              "3             4           Iceland  7.494           1.380           1.624   \n",
              "4             5       Netherlands  7.488           1.396           1.522   \n",
              "\n",
              "   Healthy life expectancy  Freedom to make life choices  Generosity  \\\n",
              "0                    0.986                         0.596       0.153   \n",
              "1                    0.996                         0.592       0.252   \n",
              "2                    1.028                         0.603       0.271   \n",
              "3                    1.026                         0.591       0.354   \n",
              "4                    0.999                         0.557       0.322   \n",
              "\n",
              "   Perceptions of corruption  \n",
              "0                      0.393  \n",
              "1                      0.410  \n",
              "2                      0.341  \n",
              "3                      0.118  \n",
              "4                      0.298  "
            ],
            "text/html": [
              "\n",
              "  <div id=\"df-5a707a27-9e72-4a7a-a0a3-57cf9bbdf603\" class=\"colab-df-container\">\n",
              "    <div>\n",
              "<style scoped>\n",
              "    .dataframe tbody tr th:only-of-type {\n",
              "        vertical-align: middle;\n",
              "    }\n",
              "\n",
              "    .dataframe tbody tr th {\n",
              "        vertical-align: top;\n",
              "    }\n",
              "\n",
              "    .dataframe thead th {\n",
              "        text-align: right;\n",
              "    }\n",
              "</style>\n",
              "<table border=\"1\" class=\"dataframe\">\n",
              "  <thead>\n",
              "    <tr style=\"text-align: right;\">\n",
              "      <th></th>\n",
              "      <th>Overall rank</th>\n",
              "      <th>Country or region</th>\n",
              "      <th>Score</th>\n",
              "      <th>GDP per capita</th>\n",
              "      <th>Social support</th>\n",
              "      <th>Healthy life expectancy</th>\n",
              "      <th>Freedom to make life choices</th>\n",
              "      <th>Generosity</th>\n",
              "      <th>Perceptions of corruption</th>\n",
              "    </tr>\n",
              "  </thead>\n",
              "  <tbody>\n",
              "    <tr>\n",
              "      <th>0</th>\n",
              "      <td>1</td>\n",
              "      <td>Finland</td>\n",
              "      <td>7.769</td>\n",
              "      <td>1.340</td>\n",
              "      <td>1.587</td>\n",
              "      <td>0.986</td>\n",
              "      <td>0.596</td>\n",
              "      <td>0.153</td>\n",
              "      <td>0.393</td>\n",
              "    </tr>\n",
              "    <tr>\n",
              "      <th>1</th>\n",
              "      <td>2</td>\n",
              "      <td>Denmark</td>\n",
              "      <td>7.600</td>\n",
              "      <td>1.383</td>\n",
              "      <td>1.573</td>\n",
              "      <td>0.996</td>\n",
              "      <td>0.592</td>\n",
              "      <td>0.252</td>\n",
              "      <td>0.410</td>\n",
              "    </tr>\n",
              "    <tr>\n",
              "      <th>2</th>\n",
              "      <td>3</td>\n",
              "      <td>Norway</td>\n",
              "      <td>7.554</td>\n",
              "      <td>1.488</td>\n",
              "      <td>1.582</td>\n",
              "      <td>1.028</td>\n",
              "      <td>0.603</td>\n",
              "      <td>0.271</td>\n",
              "      <td>0.341</td>\n",
              "    </tr>\n",
              "    <tr>\n",
              "      <th>3</th>\n",
              "      <td>4</td>\n",
              "      <td>Iceland</td>\n",
              "      <td>7.494</td>\n",
              "      <td>1.380</td>\n",
              "      <td>1.624</td>\n",
              "      <td>1.026</td>\n",
              "      <td>0.591</td>\n",
              "      <td>0.354</td>\n",
              "      <td>0.118</td>\n",
              "    </tr>\n",
              "    <tr>\n",
              "      <th>4</th>\n",
              "      <td>5</td>\n",
              "      <td>Netherlands</td>\n",
              "      <td>7.488</td>\n",
              "      <td>1.396</td>\n",
              "      <td>1.522</td>\n",
              "      <td>0.999</td>\n",
              "      <td>0.557</td>\n",
              "      <td>0.322</td>\n",
              "      <td>0.298</td>\n",
              "    </tr>\n",
              "  </tbody>\n",
              "</table>\n",
              "</div>\n",
              "    <div class=\"colab-df-buttons\">\n",
              "\n",
              "  <div class=\"colab-df-container\">\n",
              "    <button class=\"colab-df-convert\" onclick=\"convertToInteractive('df-5a707a27-9e72-4a7a-a0a3-57cf9bbdf603')\"\n",
              "            title=\"Convert this dataframe to an interactive table.\"\n",
              "            style=\"display:none;\">\n",
              "\n",
              "  <svg xmlns=\"http://www.w3.org/2000/svg\" height=\"24px\" viewBox=\"0 -960 960 960\">\n",
              "    <path d=\"M120-120v-720h720v720H120Zm60-500h600v-160H180v160Zm220 220h160v-160H400v160Zm0 220h160v-160H400v160ZM180-400h160v-160H180v160Zm440 0h160v-160H620v160ZM180-180h160v-160H180v160Zm440 0h160v-160H620v160Z\"/>\n",
              "  </svg>\n",
              "    </button>\n",
              "\n",
              "  <style>\n",
              "    .colab-df-container {\n",
              "      display:flex;\n",
              "      gap: 12px;\n",
              "    }\n",
              "\n",
              "    .colab-df-convert {\n",
              "      background-color: #E8F0FE;\n",
              "      border: none;\n",
              "      border-radius: 50%;\n",
              "      cursor: pointer;\n",
              "      display: none;\n",
              "      fill: #1967D2;\n",
              "      height: 32px;\n",
              "      padding: 0 0 0 0;\n",
              "      width: 32px;\n",
              "    }\n",
              "\n",
              "    .colab-df-convert:hover {\n",
              "      background-color: #E2EBFA;\n",
              "      box-shadow: 0px 1px 2px rgba(60, 64, 67, 0.3), 0px 1px 3px 1px rgba(60, 64, 67, 0.15);\n",
              "      fill: #174EA6;\n",
              "    }\n",
              "\n",
              "    .colab-df-buttons div {\n",
              "      margin-bottom: 4px;\n",
              "    }\n",
              "\n",
              "    [theme=dark] .colab-df-convert {\n",
              "      background-color: #3B4455;\n",
              "      fill: #D2E3FC;\n",
              "    }\n",
              "\n",
              "    [theme=dark] .colab-df-convert:hover {\n",
              "      background-color: #434B5C;\n",
              "      box-shadow: 0px 1px 3px 1px rgba(0, 0, 0, 0.15);\n",
              "      filter: drop-shadow(0px 1px 2px rgba(0, 0, 0, 0.3));\n",
              "      fill: #FFFFFF;\n",
              "    }\n",
              "  </style>\n",
              "\n",
              "    <script>\n",
              "      const buttonEl =\n",
              "        document.querySelector('#df-5a707a27-9e72-4a7a-a0a3-57cf9bbdf603 button.colab-df-convert');\n",
              "      buttonEl.style.display =\n",
              "        google.colab.kernel.accessAllowed ? 'block' : 'none';\n",
              "\n",
              "      async function convertToInteractive(key) {\n",
              "        const element = document.querySelector('#df-5a707a27-9e72-4a7a-a0a3-57cf9bbdf603');\n",
              "        const dataTable =\n",
              "          await google.colab.kernel.invokeFunction('convertToInteractive',\n",
              "                                                    [key], {});\n",
              "        if (!dataTable) return;\n",
              "\n",
              "        const docLinkHtml = 'Like what you see? Visit the ' +\n",
              "          '<a target=\"_blank\" href=https://colab.research.google.com/notebooks/data_table.ipynb>data table notebook</a>'\n",
              "          + ' to learn more about interactive tables.';\n",
              "        element.innerHTML = '';\n",
              "        dataTable['output_type'] = 'display_data';\n",
              "        await google.colab.output.renderOutput(dataTable, element);\n",
              "        const docLink = document.createElement('div');\n",
              "        docLink.innerHTML = docLinkHtml;\n",
              "        element.appendChild(docLink);\n",
              "      }\n",
              "    </script>\n",
              "  </div>\n",
              "\n",
              "\n",
              "<div id=\"df-485a1240-fc82-4d7c-8d08-d05f84502429\">\n",
              "  <button class=\"colab-df-quickchart\" onclick=\"quickchart('df-485a1240-fc82-4d7c-8d08-d05f84502429')\"\n",
              "            title=\"Suggest charts.\"\n",
              "            style=\"display:none;\">\n",
              "\n",
              "<svg xmlns=\"http://www.w3.org/2000/svg\" height=\"24px\"viewBox=\"0 0 24 24\"\n",
              "     width=\"24px\">\n",
              "    <g>\n",
              "        <path d=\"M19 3H5c-1.1 0-2 .9-2 2v14c0 1.1.9 2 2 2h14c1.1 0 2-.9 2-2V5c0-1.1-.9-2-2-2zM9 17H7v-7h2v7zm4 0h-2V7h2v10zm4 0h-2v-4h2v4z\"/>\n",
              "    </g>\n",
              "</svg>\n",
              "  </button>\n",
              "\n",
              "<style>\n",
              "  .colab-df-quickchart {\n",
              "      --bg-color: #E8F0FE;\n",
              "      --fill-color: #1967D2;\n",
              "      --hover-bg-color: #E2EBFA;\n",
              "      --hover-fill-color: #174EA6;\n",
              "      --disabled-fill-color: #AAA;\n",
              "      --disabled-bg-color: #DDD;\n",
              "  }\n",
              "\n",
              "  [theme=dark] .colab-df-quickchart {\n",
              "      --bg-color: #3B4455;\n",
              "      --fill-color: #D2E3FC;\n",
              "      --hover-bg-color: #434B5C;\n",
              "      --hover-fill-color: #FFFFFF;\n",
              "      --disabled-bg-color: #3B4455;\n",
              "      --disabled-fill-color: #666;\n",
              "  }\n",
              "\n",
              "  .colab-df-quickchart {\n",
              "    background-color: var(--bg-color);\n",
              "    border: none;\n",
              "    border-radius: 50%;\n",
              "    cursor: pointer;\n",
              "    display: none;\n",
              "    fill: var(--fill-color);\n",
              "    height: 32px;\n",
              "    padding: 0;\n",
              "    width: 32px;\n",
              "  }\n",
              "\n",
              "  .colab-df-quickchart:hover {\n",
              "    background-color: var(--hover-bg-color);\n",
              "    box-shadow: 0 1px 2px rgba(60, 64, 67, 0.3), 0 1px 3px 1px rgba(60, 64, 67, 0.15);\n",
              "    fill: var(--button-hover-fill-color);\n",
              "  }\n",
              "\n",
              "  .colab-df-quickchart-complete:disabled,\n",
              "  .colab-df-quickchart-complete:disabled:hover {\n",
              "    background-color: var(--disabled-bg-color);\n",
              "    fill: var(--disabled-fill-color);\n",
              "    box-shadow: none;\n",
              "  }\n",
              "\n",
              "  .colab-df-spinner {\n",
              "    border: 2px solid var(--fill-color);\n",
              "    border-color: transparent;\n",
              "    border-bottom-color: var(--fill-color);\n",
              "    animation:\n",
              "      spin 1s steps(1) infinite;\n",
              "  }\n",
              "\n",
              "  @keyframes spin {\n",
              "    0% {\n",
              "      border-color: transparent;\n",
              "      border-bottom-color: var(--fill-color);\n",
              "      border-left-color: var(--fill-color);\n",
              "    }\n",
              "    20% {\n",
              "      border-color: transparent;\n",
              "      border-left-color: var(--fill-color);\n",
              "      border-top-color: var(--fill-color);\n",
              "    }\n",
              "    30% {\n",
              "      border-color: transparent;\n",
              "      border-left-color: var(--fill-color);\n",
              "      border-top-color: var(--fill-color);\n",
              "      border-right-color: var(--fill-color);\n",
              "    }\n",
              "    40% {\n",
              "      border-color: transparent;\n",
              "      border-right-color: var(--fill-color);\n",
              "      border-top-color: var(--fill-color);\n",
              "    }\n",
              "    60% {\n",
              "      border-color: transparent;\n",
              "      border-right-color: var(--fill-color);\n",
              "    }\n",
              "    80% {\n",
              "      border-color: transparent;\n",
              "      border-right-color: var(--fill-color);\n",
              "      border-bottom-color: var(--fill-color);\n",
              "    }\n",
              "    90% {\n",
              "      border-color: transparent;\n",
              "      border-bottom-color: var(--fill-color);\n",
              "    }\n",
              "  }\n",
              "</style>\n",
              "\n",
              "  <script>\n",
              "    async function quickchart(key) {\n",
              "      const quickchartButtonEl =\n",
              "        document.querySelector('#' + key + ' button');\n",
              "      quickchartButtonEl.disabled = true;  // To prevent multiple clicks.\n",
              "      quickchartButtonEl.classList.add('colab-df-spinner');\n",
              "      try {\n",
              "        const charts = await google.colab.kernel.invokeFunction(\n",
              "            'suggestCharts', [key], {});\n",
              "      } catch (error) {\n",
              "        console.error('Error during call to suggestCharts:', error);\n",
              "      }\n",
              "      quickchartButtonEl.classList.remove('colab-df-spinner');\n",
              "      quickchartButtonEl.classList.add('colab-df-quickchart-complete');\n",
              "    }\n",
              "    (() => {\n",
              "      let quickchartButtonEl =\n",
              "        document.querySelector('#df-485a1240-fc82-4d7c-8d08-d05f84502429 button');\n",
              "      quickchartButtonEl.style.display =\n",
              "        google.colab.kernel.accessAllowed ? 'block' : 'none';\n",
              "    })();\n",
              "  </script>\n",
              "</div>\n",
              "    </div>\n",
              "  </div>\n"
            ]
          },
          "metadata": {},
          "execution_count": 85
        }
      ]
    },
    {
      "cell_type": "markdown",
      "source": [
        "#Connect To Open AI Api\n",
        "\n",
        "To use OpenAI's API, all you need is an API key.\n",
        " You can use GPT-3.5 Turbo, which works well, or GPT-4 if you prefer, though it might be more than you need.\n",
        "\n",
        " To keep your API key safe, you can store it in a .env file."
      ],
      "metadata": {
        "id": "CyHSLUkVOHyP"
      }
    },
    {
      "cell_type": "code",
      "source": [
        "from pandasai.llm import OpenAI\n",
        "import os\n",
        "from dotenv import load_dotenv, find_dotenv\n",
        "_ = load_dotenv(find_dotenv())\n",
        "\n"
      ],
      "metadata": {
        "id": "7vrzb79s51HQ"
      },
      "execution_count": null,
      "outputs": []
    },
    {
      "cell_type": "markdown",
      "source": [
        "#Smart Data Frame in work"
      ],
      "metadata": {
        "id": "bQWLLasEOMGx"
      }
    },
    {
      "cell_type": "code",
      "source": [
        "sdf = SmartDataframe(df, config={\"llm\": llm})"
      ],
      "metadata": {
        "id": "KYDDZ5it55lb"
      },
      "execution_count": null,
      "outputs": []
    },
    {
      "cell_type": "code",
      "source": [
        "sdf[sdf['Country or region'] == 'United States']"
      ],
      "metadata": {
        "colab": {
          "base_uri": "https://localhost:8080/",
          "height": 81
        },
        "id": "zx2rDl0i6Plb",
        "outputId": "eb9c0293-4564-4dba-baab-8030014b2677"
      },
      "execution_count": null,
      "outputs": [
        {
          "output_type": "execute_result",
          "data": {
            "text/plain": [
              "    Overall rank Country or region  Score  GDP per capita  Social support  \\\n",
              "18            19     United States  6.892           1.433           1.457   \n",
              "\n",
              "    Healthy life expectancy  Freedom to make life choices  Generosity  \\\n",
              "18                    0.874                         0.454        0.28   \n",
              "\n",
              "    Perceptions of corruption  \n",
              "18                      0.128  "
            ],
            "text/html": [
              "\n",
              "  <div id=\"df-a0e23a9c-f714-409e-9a9f-87ee1957c1f9\" class=\"colab-df-container\">\n",
              "    <div>\n",
              "<style scoped>\n",
              "    .dataframe tbody tr th:only-of-type {\n",
              "        vertical-align: middle;\n",
              "    }\n",
              "\n",
              "    .dataframe tbody tr th {\n",
              "        vertical-align: top;\n",
              "    }\n",
              "\n",
              "    .dataframe thead th {\n",
              "        text-align: right;\n",
              "    }\n",
              "</style>\n",
              "<table border=\"1\" class=\"dataframe\">\n",
              "  <thead>\n",
              "    <tr style=\"text-align: right;\">\n",
              "      <th></th>\n",
              "      <th>Overall rank</th>\n",
              "      <th>Country or region</th>\n",
              "      <th>Score</th>\n",
              "      <th>GDP per capita</th>\n",
              "      <th>Social support</th>\n",
              "      <th>Healthy life expectancy</th>\n",
              "      <th>Freedom to make life choices</th>\n",
              "      <th>Generosity</th>\n",
              "      <th>Perceptions of corruption</th>\n",
              "    </tr>\n",
              "  </thead>\n",
              "  <tbody>\n",
              "    <tr>\n",
              "      <th>18</th>\n",
              "      <td>19</td>\n",
              "      <td>United States</td>\n",
              "      <td>6.892</td>\n",
              "      <td>1.433</td>\n",
              "      <td>1.457</td>\n",
              "      <td>0.874</td>\n",
              "      <td>0.454</td>\n",
              "      <td>0.28</td>\n",
              "      <td>0.128</td>\n",
              "    </tr>\n",
              "  </tbody>\n",
              "</table>\n",
              "</div>\n",
              "    <div class=\"colab-df-buttons\">\n",
              "\n",
              "  <div class=\"colab-df-container\">\n",
              "    <button class=\"colab-df-convert\" onclick=\"convertToInteractive('df-a0e23a9c-f714-409e-9a9f-87ee1957c1f9')\"\n",
              "            title=\"Convert this dataframe to an interactive table.\"\n",
              "            style=\"display:none;\">\n",
              "\n",
              "  <svg xmlns=\"http://www.w3.org/2000/svg\" height=\"24px\" viewBox=\"0 -960 960 960\">\n",
              "    <path d=\"M120-120v-720h720v720H120Zm60-500h600v-160H180v160Zm220 220h160v-160H400v160Zm0 220h160v-160H400v160ZM180-400h160v-160H180v160Zm440 0h160v-160H620v160ZM180-180h160v-160H180v160Zm440 0h160v-160H620v160Z\"/>\n",
              "  </svg>\n",
              "    </button>\n",
              "\n",
              "  <style>\n",
              "    .colab-df-container {\n",
              "      display:flex;\n",
              "      gap: 12px;\n",
              "    }\n",
              "\n",
              "    .colab-df-convert {\n",
              "      background-color: #E8F0FE;\n",
              "      border: none;\n",
              "      border-radius: 50%;\n",
              "      cursor: pointer;\n",
              "      display: none;\n",
              "      fill: #1967D2;\n",
              "      height: 32px;\n",
              "      padding: 0 0 0 0;\n",
              "      width: 32px;\n",
              "    }\n",
              "\n",
              "    .colab-df-convert:hover {\n",
              "      background-color: #E2EBFA;\n",
              "      box-shadow: 0px 1px 2px rgba(60, 64, 67, 0.3), 0px 1px 3px 1px rgba(60, 64, 67, 0.15);\n",
              "      fill: #174EA6;\n",
              "    }\n",
              "\n",
              "    .colab-df-buttons div {\n",
              "      margin-bottom: 4px;\n",
              "    }\n",
              "\n",
              "    [theme=dark] .colab-df-convert {\n",
              "      background-color: #3B4455;\n",
              "      fill: #D2E3FC;\n",
              "    }\n",
              "\n",
              "    [theme=dark] .colab-df-convert:hover {\n",
              "      background-color: #434B5C;\n",
              "      box-shadow: 0px 1px 3px 1px rgba(0, 0, 0, 0.15);\n",
              "      filter: drop-shadow(0px 1px 2px rgba(0, 0, 0, 0.3));\n",
              "      fill: #FFFFFF;\n",
              "    }\n",
              "  </style>\n",
              "\n",
              "    <script>\n",
              "      const buttonEl =\n",
              "        document.querySelector('#df-a0e23a9c-f714-409e-9a9f-87ee1957c1f9 button.colab-df-convert');\n",
              "      buttonEl.style.display =\n",
              "        google.colab.kernel.accessAllowed ? 'block' : 'none';\n",
              "\n",
              "      async function convertToInteractive(key) {\n",
              "        const element = document.querySelector('#df-a0e23a9c-f714-409e-9a9f-87ee1957c1f9');\n",
              "        const dataTable =\n",
              "          await google.colab.kernel.invokeFunction('convertToInteractive',\n",
              "                                                    [key], {});\n",
              "        if (!dataTable) return;\n",
              "\n",
              "        const docLinkHtml = 'Like what you see? Visit the ' +\n",
              "          '<a target=\"_blank\" href=https://colab.research.google.com/notebooks/data_table.ipynb>data table notebook</a>'\n",
              "          + ' to learn more about interactive tables.';\n",
              "        element.innerHTML = '';\n",
              "        dataTable['output_type'] = 'display_data';\n",
              "        await google.colab.output.renderOutput(dataTable, element);\n",
              "        const docLink = document.createElement('div');\n",
              "        docLink.innerHTML = docLinkHtml;\n",
              "        element.appendChild(docLink);\n",
              "      }\n",
              "    </script>\n",
              "  </div>\n",
              "\n",
              "    </div>\n",
              "  </div>\n"
            ]
          },
          "metadata": {},
          "execution_count": 88
        }
      ]
    },
    {
      "cell_type": "code",
      "source": [
        "sdf.chat(\"Return the top 5 countries by score\")"
      ],
      "metadata": {
        "colab": {
          "base_uri": "https://localhost:8080/",
          "height": 206
        },
        "id": "6O39W_p47Vcv",
        "outputId": "f285c32e-0784-4cea-9dcd-bac3688afdbb"
      },
      "execution_count": null,
      "outputs": [
        {
          "output_type": "execute_result",
          "data": {
            "text/plain": [
              "   Overall rank Country or region  Score  GDP per capita  Social support  \\\n",
              "0             1           Finland  7.769           1.340           1.587   \n",
              "1             2           Denmark  7.600           1.383           1.573   \n",
              "2             3            Norway  7.554           1.488           1.582   \n",
              "3             4           Iceland  7.494           1.380           1.624   \n",
              "4             5       Netherlands  7.488           1.396           1.522   \n",
              "\n",
              "   Healthy life expectancy  Freedom to make life choices  Generosity  \\\n",
              "0                    0.986                         0.596       0.153   \n",
              "1                    0.996                         0.592       0.252   \n",
              "2                    1.028                         0.603       0.271   \n",
              "3                    1.026                         0.591       0.354   \n",
              "4                    0.999                         0.557       0.322   \n",
              "\n",
              "   Perceptions of corruption  \n",
              "0                      0.393  \n",
              "1                      0.410  \n",
              "2                      0.341  \n",
              "3                      0.118  \n",
              "4                      0.298  "
            ],
            "text/html": [
              "<div>\n",
              "<style scoped>\n",
              "    .dataframe tbody tr th:only-of-type {\n",
              "        vertical-align: middle;\n",
              "    }\n",
              "\n",
              "    .dataframe tbody tr th {\n",
              "        vertical-align: top;\n",
              "    }\n",
              "\n",
              "    .dataframe thead th {\n",
              "        text-align: right;\n",
              "    }\n",
              "</style>\n",
              "<table border=\"1\" class=\"dataframe\">\n",
              "  <thead>\n",
              "    <tr style=\"text-align: right;\">\n",
              "      <th></th>\n",
              "      <th>Overall rank</th>\n",
              "      <th>Country or region</th>\n",
              "      <th>Score</th>\n",
              "      <th>GDP per capita</th>\n",
              "      <th>Social support</th>\n",
              "      <th>Healthy life expectancy</th>\n",
              "      <th>Freedom to make life choices</th>\n",
              "      <th>Generosity</th>\n",
              "      <th>Perceptions of corruption</th>\n",
              "    </tr>\n",
              "  </thead>\n",
              "  <tbody>\n",
              "    <tr>\n",
              "      <th>0</th>\n",
              "      <td>1</td>\n",
              "      <td>Finland</td>\n",
              "      <td>7.769</td>\n",
              "      <td>1.340</td>\n",
              "      <td>1.587</td>\n",
              "      <td>0.986</td>\n",
              "      <td>0.596</td>\n",
              "      <td>0.153</td>\n",
              "      <td>0.393</td>\n",
              "    </tr>\n",
              "    <tr>\n",
              "      <th>1</th>\n",
              "      <td>2</td>\n",
              "      <td>Denmark</td>\n",
              "      <td>7.600</td>\n",
              "      <td>1.383</td>\n",
              "      <td>1.573</td>\n",
              "      <td>0.996</td>\n",
              "      <td>0.592</td>\n",
              "      <td>0.252</td>\n",
              "      <td>0.410</td>\n",
              "    </tr>\n",
              "    <tr>\n",
              "      <th>2</th>\n",
              "      <td>3</td>\n",
              "      <td>Norway</td>\n",
              "      <td>7.554</td>\n",
              "      <td>1.488</td>\n",
              "      <td>1.582</td>\n",
              "      <td>1.028</td>\n",
              "      <td>0.603</td>\n",
              "      <td>0.271</td>\n",
              "      <td>0.341</td>\n",
              "    </tr>\n",
              "    <tr>\n",
              "      <th>3</th>\n",
              "      <td>4</td>\n",
              "      <td>Iceland</td>\n",
              "      <td>7.494</td>\n",
              "      <td>1.380</td>\n",
              "      <td>1.624</td>\n",
              "      <td>1.026</td>\n",
              "      <td>0.591</td>\n",
              "      <td>0.354</td>\n",
              "      <td>0.118</td>\n",
              "    </tr>\n",
              "    <tr>\n",
              "      <th>4</th>\n",
              "      <td>5</td>\n",
              "      <td>Netherlands</td>\n",
              "      <td>7.488</td>\n",
              "      <td>1.396</td>\n",
              "      <td>1.522</td>\n",
              "      <td>0.999</td>\n",
              "      <td>0.557</td>\n",
              "      <td>0.322</td>\n",
              "      <td>0.298</td>\n",
              "    </tr>\n",
              "  </tbody>\n",
              "</table>\n",
              "</div>"
            ]
          },
          "metadata": {},
          "execution_count": 89
        }
      ]
    },
    {
      "cell_type": "code",
      "source": [
        "sdf.chat(\"What's the sum of the gdp of the 2 unhappiest countries?\" )"
      ],
      "metadata": {
        "colab": {
          "base_uri": "https://localhost:8080/"
        },
        "id": "ZUM1D-jA7iOJ",
        "outputId": "156ca958-f540-4263-b51d-c0d98e4e6d57"
      },
      "execution_count": null,
      "outputs": [
        {
          "output_type": "execute_result",
          "data": {
            "text/plain": [
              "0.332"
            ]
          },
          "metadata": {},
          "execution_count": 90
        }
      ]
    },
    {
      "cell_type": "code",
      "source": [
        "print(sdf.last_code_generated)"
      ],
      "metadata": {
        "colab": {
          "base_uri": "https://localhost:8080/"
        },
        "id": "KrtJnzHQ8GUS",
        "outputId": "5d093f37-3015-4b2f-b1ef-87f2ada4de1c"
      },
      "execution_count": null,
      "outputs": [
        {
          "output_type": "stream",
          "name": "stdout",
          "text": [
            "def analyze_data(dfs: list[pd.DataFrame]) ->dict:\n",
            "    \"\"\"\n",
            "    Analyze the data, using the provided dataframes (`dfs`).\n",
            "    1. Prepare: Preprocessing and cleaning data if necessary\n",
            "    2. Process: Manipulating data for analysis (grouping, filtering, aggregating, etc.)\n",
            "    3. Analyze: Conducting the actual analysis (if the user asks to plot a chart you must save it as an image in /content/temp_chart.png and not show the chart.)\n",
            "    If the user requests to create a chart, utilize the Python matplotlib library to generate high-quality graphics that will be saved directly to a file.\n",
            "    At the end, return a dictionary of:\n",
            "    - type (possible values \"string\", \"number\", \"dataframe\", \"plot\")\n",
            "    - value (can be a string, a dataframe or the path of the plot, NOT a dictionary)\n",
            "    Examples: \n",
            "        { \"type\": \"string\", \"value\": f\"The highest salary is {highest_salary}.\" }\n",
            "        or\n",
            "        { \"type\": \"number\", \"value\": 125 }\n",
            "        or\n",
            "        { \"type\": \"dataframe\", \"value\": pd.DataFrame({...}) }\n",
            "        or\n",
            "        { \"type\": \"plot\", \"value\": \"/content/temp_chart.png\" }\n",
            "    \"\"\"\n",
            "    df = dfs[0]\n",
            "    unhappiest_countries = df.nsmallest(2, 'Score')\n",
            "    gdp_sum = unhappiest_countries['GDP per capita'].sum()\n",
            "    result = {'type': 'number', 'value': gdp_sum}\n",
            "    return result\n"
          ]
        }
      ]
    },
    {
      "cell_type": "markdown",
      "source": [
        "#Ploting"
      ],
      "metadata": {
        "id": "9vPMFMqAOWbl"
      }
    },
    {
      "cell_type": "code",
      "source": [
        "sdf.chat(\"Plot a chart of the score by country for the top 10 countries, using a different color for each country.\")"
      ],
      "metadata": {
        "colab": {
          "base_uri": "https://localhost:8080/",
          "height": 285
        },
        "id": "EYoJqndBAHS4",
        "outputId": "a522e1d8-a7b5-4e33-fd85-4d08d328e66e"
      },
      "execution_count": null,
      "outputs": [
        {
          "output_type": "display_data",
          "data": {
            "text/plain": [
              "<Figure size 640x480 with 1 Axes>"
            ],
            "image/png": "[encoded data removed]"
          },
          "metadata": {}
        }
      ]
    },
    {
      "cell_type": "markdown",
      "source": [
        "#Chain"
      ],
      "metadata": {
        "id": "-Iy8BgJSOZ6R"
      }
    },
    {
      "cell_type": "code",
      "source": [
        "sdf.chat(\"Return the top 15 countries by score\").plot_pie_chart(labels=\"country\", values=\"score\")"
      ],
      "metadata": {
        "colab": {
          "base_uri": "https://localhost:8080/",
          "height": 406
        },
        "id": "wTS5ykQpBpUG",
        "outputId": "f8c440ec-de30-4199-ad9d-faa1148d0c1a"
      },
      "execution_count": null,
      "outputs": [
        {
          "output_type": "display_data",
          "data": {
            "text/plain": [
              "<Figure size 640x480 with 1 Axes>"
            ],
            "image/png": "[encoded data removed]"
          },
          "metadata": {}
        }
      ]
    },
    {
      "cell_type": "markdown",
      "source": [
        "#Working with multiple data frames [Smart Data Lake]\n",
        "\n",
        "Pandas AI has the ability to combine data frames in one conversation using Smart Data Lake"
      ],
      "metadata": {
        "id": "xF6It8SsNrC7"
      }
    },
    {
      "cell_type": "code",
      "source": [
        "from pandasai import SmartDatalake\n",
        "country_df = pd.read_csv(\"/content/2019.csv\")\n",
        "countires = SmartDataframe(country_df, name=\"countires\")\n",
        "\n",
        "\n",
        "billionaires_df = pd.read_csv(\"/content/forbes_2640_billionaires.csv\")\n",
        "billionaires = SmartDataframe(billionaires_df, name=\"billionaires\")\n",
        "\n",
        "\n",
        "lake = SmartDatalake([countires, billionaires], config={\"llm\": llm})\n",
        "lake.chat(\"How many billionaires existis in top 5 happiest countries and what are there countries name and what the percentage of the total billionaires around the world\")"
      ],
      "metadata": {
        "colab": {
          "base_uri": "https://localhost:8080/",
          "height": 36
        },
        "id": "Uif8vLUvC9Ik",
        "outputId": "bb855d90-fc21-4aa8-b5f5-82f4b6707afa"
      },
      "execution_count": null,
      "outputs": [
        {
          "output_type": "execute_result",
          "data": {
            "text/plain": [
              "'There are 40 billionaires in the top 5 happiest countries: Netherlands, Norway, Denmark, Finland, Iceland. This represents 1.52% of the total number of billionaires around the world.'"
            ],
            "application/vnd.google.colaboratory.intrinsic+json": {
              "type": "string"
            }
          },
          "metadata": {},
          "execution_count": 94
        }
      ]
    },
    {
      "cell_type": "code",
      "source": [
        "print(lake.last_code_executed)"
      ],
      "metadata": {
        "colab": {
          "base_uri": "https://localhost:8080/"
        },
        "id": "J7Gn88epGnsA",
        "outputId": "dae61b18-0c0b-4be2-f388-0f85cddd4e6d"
      },
      "execution_count": null,
      "outputs": [
        {
          "output_type": "stream",
          "name": "stdout",
          "text": [
            "def analyze_data(dfs: list[pd.DataFrame]) ->dict:\n",
            "    \"\"\"\n",
            "    Analyze the data, using the provided dataframes (`dfs`).\n",
            "    1. Prepare: Preprocessing and cleaning data if necessary\n",
            "    2. Process: Manipulating data for analysis (grouping, filtering, aggregating, etc.)\n",
            "    3. Analyze: Conducting the actual analysis (if the user asks to plot a chart you must save it as an image in /content/temp_chart.png and not show the chart.)\n",
            "    If the user requests to create a chart, utilize the Python matplotlib library to generate high-quality graphics that will be saved directly to a file.\n",
            "    At the end, return a dictionary of:\n",
            "    - type (possible values \"string\", \"number\", \"dataframe\", \"plot\")\n",
            "    - value (can be a string, a dataframe or the path of the plot, NOT a dictionary)\n",
            "    Examples: \n",
            "        { \"type\": \"string\", \"value\": f\"The highest salary is {highest_salary}.\" }\n",
            "        or\n",
            "        { \"type\": \"number\", \"value\": 125 }\n",
            "        or\n",
            "        { \"type\": \"dataframe\", \"value\": pd.DataFrame({...}) }\n",
            "        or\n",
            "        { \"type\": \"plot\", \"value\": \"/content/temp_chart.png\" }\n",
            "    \"\"\"\n",
            "    top_5_happiest = dfs[0].head(5)\n",
            "    billionaires_top_5_happiest = dfs[1][dfs[1]['country'].isin(top_5_happiest['Country or region'])]\n",
            "    num_billionaires_top_5_happiest = len(billionaires_top_5_happiest)\n",
            "    countries_with_billionaires_top_5_happiest = billionaires_top_5_happiest['country'].unique()\n",
            "    total_billionaires = len(dfs[1])\n",
            "    percentage_billionaires_top_5_happiest = num_billionaires_top_5_happiest / total_billionaires * 100\n",
            "    result_string = f\"There are {num_billionaires_top_5_happiest} billionaires in the top 5 happiest countries: {', '.join(countries_with_billionaires_top_5_happiest)}. This represents {percentage_billionaires_top_5_happiest:.2f}% of the total number of billionaires around the world.\"\n",
            "    return {'type': 'string', 'value': result_string}\n"
          ]
        }
      ]
    },
    {
      "cell_type": "markdown",
      "source": [
        "#LangChain LLMS\n",
        "\n",
        "You can utilize LangChain LLMS instead of intricate OpenAI integration."
      ],
      "metadata": {
        "id": "nRCWzELBKsem"
      }
    },
    {
      "cell_type": "code",
      "source": [
        "!pip install pandasai[langchain] -q"
      ],
      "metadata": {
        "id": "agaNuljSK2wz"
      },
      "execution_count": null,
      "outputs": []
    },
    {
      "cell_type": "markdown",
      "source": [
        "Then you can use them as if they were PandasAI LLMs."
      ],
      "metadata": {
        "id": "3WqGws7WK6aH"
      }
    },
    {
      "cell_type": "code",
      "source": [
        "from pandasai import SmartDataframe\n",
        "from langchain.llms import OpenAI\n",
        "# from langchain.llms import Anthropic\n",
        "# from langchain.llms import LlamaCpp\n",
        "\n",
        "langchain_llm = OpenAI(openai_api_key=os.environ['OPENAI_API_KEY'], max_tokens=1000)\n",
        "langchain_sdf = SmartDataframe(df, config={\"llm\": langchain_llm})\n",
        "langchain_sdf.chat(\"Which are the top 5 countries by score?\")"
      ],
      "metadata": {
        "colab": {
          "base_uri": "https://localhost:8080/",
          "height": 206
        },
        "id": "IfWdSEcwK53X",
        "outputId": "8149f35c-45dc-4b26-9649-669d1a7b6dc9"
      },
      "execution_count": null,
      "outputs": [
        {
          "output_type": "execute_result",
          "data": {
            "text/plain": [
              "   Overall rank Country or region  Score\n",
              "0             1           Finland  7.769\n",
              "1             2           Denmark  7.600\n",
              "2             3            Norway  7.554\n",
              "3             4           Iceland  7.494\n",
              "4             5       Netherlands  7.488"
            ],
            "text/html": [
              "<div>\n",
              "<style scoped>\n",
              "    .dataframe tbody tr th:only-of-type {\n",
              "        vertical-align: middle;\n",
              "    }\n",
              "\n",
              "    .dataframe tbody tr th {\n",
              "        vertical-align: top;\n",
              "    }\n",
              "\n",
              "    .dataframe thead th {\n",
              "        text-align: right;\n",
              "    }\n",
              "</style>\n",
              "<table border=\"1\" class=\"dataframe\">\n",
              "  <thead>\n",
              "    <tr style=\"text-align: right;\">\n",
              "      <th></th>\n",
              "      <th>Overall rank</th>\n",
              "      <th>Country or region</th>\n",
              "      <th>Score</th>\n",
              "    </tr>\n",
              "  </thead>\n",
              "  <tbody>\n",
              "    <tr>\n",
              "      <th>0</th>\n",
              "      <td>1</td>\n",
              "      <td>Finland</td>\n",
              "      <td>7.769</td>\n",
              "    </tr>\n",
              "    <tr>\n",
              "      <th>1</th>\n",
              "      <td>2</td>\n",
              "      <td>Denmark</td>\n",
              "      <td>7.600</td>\n",
              "    </tr>\n",
              "    <tr>\n",
              "      <th>2</th>\n",
              "      <td>3</td>\n",
              "      <td>Norway</td>\n",
              "      <td>7.554</td>\n",
              "    </tr>\n",
              "    <tr>\n",
              "      <th>3</th>\n",
              "      <td>4</td>\n",
              "      <td>Iceland</td>\n",
              "      <td>7.494</td>\n",
              "    </tr>\n",
              "    <tr>\n",
              "      <th>4</th>\n",
              "      <td>5</td>\n",
              "      <td>Netherlands</td>\n",
              "      <td>7.488</td>\n",
              "    </tr>\n",
              "  </tbody>\n",
              "</table>\n",
              "</div>"
            ]
          },
          "metadata": {},
          "execution_count": 97
        }
      ]
    },
    {
      "cell_type": "markdown",
      "source": [
        "## Working With Databases aka Connectors\n",
        "Pandas AI has also added the capability to work with real databases under the name \"Connectors.\"\n",
        "\n",
        "To use a connector, you first need to install the required dependencies."
      ],
      "metadata": {
        "id": "2NgVwNB6LnKx"
      }
    },
    {
      "cell_type": "code",
      "source": [
        "!pip install pandasai[connectors] -q"
      ],
      "metadata": {
        "id": "iGm7MCXmLqLI"
      },
      "execution_count": null,
      "outputs": []
    },
    {
      "cell_type": "code",
      "source": [
        "from pandasai.connectors import MySQLConnector, PostgreSQLConnector\n",
        "\n",
        "# With a MySQL database\n",
        "loan_connector = MySQLConnector(\n",
        "    config={\n",
        "        \"host\": \"localhost\",\n",
        "        \"port\": 3306,\n",
        "        \"database\": \"mydb\",\n",
        "        \"username\": \"root\",\n",
        "        \"password\": \"root\",\n",
        "        \"table\": \"loans\",\n",
        "        \"where\": [\n",
        "            # this is optional and filters the data to\n",
        "            # reduce the size of the dataframe\n",
        "            [\"loan_status\", \"=\", \"PAIDOFF\"],\n",
        "        ],\n",
        "    }\n",
        ")\n",
        "\n",
        "# With a PostgreSQL database\n",
        "payment_connector = PostgreSQLConnector(\n",
        "    config={\n",
        "        \"host\": \"localhost\",\n",
        "        \"port\": 5432,\n",
        "        \"database\": \"mydb\",\n",
        "        \"username\": \"root\",\n",
        "        \"password\": \"root\",\n",
        "        \"table\": \"payments\",\n",
        "        \"where\": [\n",
        "            # this is optional and filters the data to\n",
        "            # reduce the size of the dataframe\n",
        "            [\"payment_status\", \"=\", \"PAIDOFF\"],\n",
        "        ],\n",
        "    }\n",
        ")\n",
        "\n",
        "df_connector = SmartDatalake([loan_connector, payment_connector], config={\"llm\": llm})\n",
        "response = df_connector.chat(\"How many loans from the United states?\")\n",
        "print(response)"
      ],
      "metadata": {
        "id": "zMjtuNTSMOEF"
      },
      "execution_count": null,
      "outputs": []
    },
    {
      "cell_type": "code",
      "source": [
        "from pandasai.connectors.yahoo_finance import YahooFinanceConnector\n",
        "\n",
        "yahoo_connector = YahooFinanceConnector(\"MSFT\")\n",
        "df = SmartDataframe(yahoo_connector, config={\"llm\": llm})\n",
        "\n",
        "response = df.chat(\"What is the closing price for yesterday?\")\n",
        "print(response)"
      ],
      "metadata": {
        "colab": {
          "base_uri": "https://localhost:8080/"
        },
        "id": "X2E32aFTMUP9",
        "outputId": "cd545034-23a6-4aa1-dfd7-3d9ee70047b6"
      },
      "execution_count": null,
      "outputs": [
        {
          "output_type": "stream",
          "name": "stdout",
          "text": [
            "The closing price for yesterday was 346.07000732421875.\n"
          ]
        }
      ]
    },
    {
      "cell_type": "code",
      "source": [
        "yahoo_connector = YahooFinanceConnector(\"TSLA\")\n",
        "\n",
        "df_connector = SmartDataframe(yahoo_connector, config={\"llm\": llm})\n",
        "response = df_connector.chat(\"Plot the chart of tesla over time\")"
      ],
      "metadata": {
        "colab": {
          "base_uri": "https://localhost:8080/",
          "height": 406
        },
        "id": "Ow-Ta1zlMkKc",
        "outputId": "2dbe2b27-7b55-4ccb-bf3f-55c24dbe0a7b"
      },
      "execution_count": null,
      "outputs": [
        {
          "output_type": "display_data",
          "data": {
            "text/plain": [
              "<Figure size 640x480 with 1 Axes>"
            ],
            "image/png": "[encoded data removed]"
          },
          "metadata": {}
        }
      ]
    },
    {
      "cell_type": "markdown",
      "source": [
        "#Agent\n",
        "\n",
        "[working with agents  ](https://docs.pandas-ai.com/en/latest/examples/#working-with-agent)"
      ],
      "metadata": {
        "id": "5u-dAx2rMvaA"
      }
    },
    {
      "cell_type": "markdown",
      "source": [
        "**The chat agent keeps track of your conversation, so you can have natural and meaningful chats.**\n",
        "\n",
        "\n",
        "\n",
        "Here are its main features:\n",
        "\n",
        "**Remembering Context**: The agent never forgets what you've been talking about, making your conversations flow smoothly and stay on track.\n",
        "\n",
        "**Get Clear Answers**: You can ask the agent to explain things further using the clarification_questions method. This helps you get a better grasp of the information.\n",
        "\n",
        "**Detailed Explanations**: Use the explain method to get a deep dive into how the agent came up with a specific answer."
      ],
      "metadata": {
        "id": "tm8TWD_DNGFW"
      }
    },
    {
      "cell_type": "code",
      "source": [
        "import pandas as pd\n",
        "from pandasai import Agent\n",
        "\n",
        "from pandasai.llm.openai import OpenAI\n",
        "\n",
        "employees_data = {\n",
        "    \"EmployeeID\": [1, 2, 3, 4, 5],\n",
        "    \"Name\": [\"John\", \"Emma\", \"Liam\", \"Olivia\", \"William\"],\n",
        "    \"Department\": [\"HR\", \"Sales\", \"IT\", \"Marketing\", \"Finance\"],\n",
        "}\n",
        "\n",
        "salaries_data = {\n",
        "    \"EmployeeID\": [1, 2, 3, 4, 5],\n",
        "    \"Salary\": [5000, 6000, 4500, 7000, 5500],\n",
        "}\n",
        "\n",
        "employees_df = pd.DataFrame(employees_data)\n",
        "salaries_df = pd.DataFrame(salaries_data)\n",
        "\n",
        "\n",
        "llm = OpenAI(os.environ['OPENAI_API_KEY'])\n",
        "agent = Agent([employees_df, salaries_df], config={\"llm\": llm}, memory_size=10)\n",
        "\n",
        "# Chat with the agent\n",
        "response = agent.chat(\"Who gets paid the most?\")\n",
        "print(response)\n",
        "\n",
        "# Get Clarification Questions\n",
        "questions = agent.clarification_questions(query=response)\n",
        "\n",
        "for question in questions:\n",
        "    print(question)\n",
        "\n",
        "# Explain how the chat response is generated\n",
        "response = agent.explain()\n",
        "print(response)"
      ],
      "metadata": {
        "colab": {
          "base_uri": "https://localhost:8080/"
        },
        "id": "tktQeV2NNXuB",
        "outputId": "e2091406-6e7b-4d9d-ecba-d213af5c49c1"
      },
      "execution_count": null,
      "outputs": [
        {
          "output_type": "stream",
          "name": "stdout",
          "text": [
            "The employee who gets paid the most is Olivia.\n",
            "What is the basis for determining who gets paid the most?\n",
            "Is Olivia the only employee in the company?\n",
            "Are there any other factors that determine how much an employee gets paid?\n",
            "To analyze the data, we first need to combine two sets of data. We do this by merging the dataframes based on a common column called \"EmployeeID\". Once we have the merged dataframe, we can find the highest salary by looking at the \"Salary\" column and finding the maximum value. We then identify the employee who has this highest salary by looking at their name in the \"Name\" column. Finally, we return a statement saying that the employee who gets paid the most is [employee's name].\n"
          ]
        }
      ]
    },
    {
      "cell_type": "markdown",
      "source": [
        "#Adding Skills to agent [Custome functions]\n",
        "\n",
        "You can create your own functions for the agent, which will help it do more things. These custom functions work well with the agent's skills and let you define a variety of tasks\n",
        "\n",
        "it's news things to panda ai so it still have some unexpacted restuls"
      ],
      "metadata": {
        "id": "PbUK0oKLPWFa"
      }
    },
    {
      "cell_type": "code",
      "source": [
        "\n",
        "\n",
        "import pandas as pd\n",
        "from pandasai import Agent\n",
        "\n",
        "from pandasai.llm.openai import OpenAI\n",
        "from pandasai.skills import skill\n",
        "\n",
        "employees_data = {\n",
        "    \"EmployeeID\": [1, 2, 3, 4, 5],\n",
        "    \"Name\": [\"John\", \"Emma\", \"Liam\", \"Olivia\", \"William\"],\n",
        "    \"Department\": [\"HR\", \"Sales\", \"IT\", \"Marketing\", \"Finance\"],\n",
        "}\n",
        "\n",
        "salaries_data = {\n",
        "    \"EmployeeID\": [1, 2, 3, 4, 5],\n",
        "    \"Salary\": [5000, 6000, 4500, 7000, 5500],\n",
        "}\n",
        "\n",
        "employees_df = pd.DataFrame(employees_data)\n",
        "salaries_df = pd.DataFrame(salaries_data)\n",
        "\n",
        "# Function doc string to give more context to the model for use this skill\n",
        "@skill\n",
        "def plot_salaries(name: list[str], salaries: list[int]):\n",
        "    \"\"\"\n",
        "    Displays the bar chart  having name on x axis and salaries on y axis\n",
        "    Args:\n",
        "        name (list[str]): Employee name\n",
        "        salaries (list[int]): Salaries\n",
        "    \"\"\"\n",
        "    # plot bars\n",
        "    import matplotlib.pyplot as plt\n",
        "\n",
        "    plt.bar(name, salaries)\n",
        "    plt.xlabel(\"Employee Name\")\n",
        "    plt.ylabel(\"Salary\")\n",
        "    plt.title(\"Employee Salaries\")\n",
        "    plt.xticks(rotation=45)\n",
        "\n",
        "\n",
        "\n",
        "llm = OpenAI(os.environ['OPENAI_API_KEY'])\n",
        "agent = Agent([employees_df, salaries_df], config={\"llm\": llm}, memory_size=20)\n",
        "\n",
        "agent.add_skills(plot_salaries(employees_df['Name'],salaries_df['Salary']))\n",
        "\n",
        "# Chat with the agent\n",
        "response = agent.chat(\"Plot the employee salaries against names, use diffrent colors for each bar\")"
      ],
      "metadata": {
        "colab": {
          "base_uri": "https://localhost:8080/",
          "height": 504
        },
        "id": "7NLiRnz4PnMF",
        "outputId": "1f8ae600-a8a0-456f-8dd3-a6e605ca367d"
      },
      "execution_count": null,
      "outputs": [
        {
          "output_type": "display_data",
          "data": {
            "text/plain": [
              "<Figure size 640x480 with 1 Axes>"
            ],
            "image/png": "[encoded data removed]"
          },
          "metadata": {}
        }
      ]
    }
  ]
}